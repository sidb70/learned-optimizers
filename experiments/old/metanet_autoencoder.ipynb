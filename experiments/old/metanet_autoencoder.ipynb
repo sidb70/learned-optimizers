{
 "cells": [
  {
   "cell_type": "code",
   "execution_count": 5,
   "metadata": {},
   "outputs": [],
   "source": [
    "from gmn_lim.graph_construct.model_arch_graph import seq_to_feats, sequential_to_arch, arch_to_graph, graph_to_arch, arch_to_sequential\n",
    "from gmn_lim.feature_extractor_gmn import GraphPredGen\n",
    "import torch\n",
    "import torch.nn as nn\n",
    "import json\n",
    "import os"
   ]
  },
  {
   "cell_type": "code",
   "execution_count": 10,
   "metadata": {},
   "outputs": [
    {
     "name": "stderr",
     "output_type": "stream",
     "text": [
      "/tmp/ipykernel_9027/823930491.py:12: FutureWarning: You are using `torch.load` with `weights_only=False` (the current default value), which uses the default pickle module implicitly. It is possible to construct malicious pickle data which will execute arbitrary code during unpickling (See https://github.com/pytorch/pytorch/blob/main/SECURITY.md#untrusted-models for more details). In a future release, the default value for `weights_only` will be flipped to `True`. This limits the functions that could be executed during unpickling. Arbitrary objects will no longer be allowed to be loaded via this mode unless they are explicitly allowlisted by the user via `torch.serialization.add_safe_globals`. We recommend you start setting `weights_only=True` for any use case where you don't have full control of the loaded file. Please open an issue on GitHub for any issues related to this experimental feature.\n",
      "  example_torch_model = torch.load(os.path.join(example_folder,'torch_model.pt'),map_location='cpu') # sequential\n",
      "/tmp/ipykernel_9027/823930491.py:15: FutureWarning: You are using `torch.load` with `weights_only=False` (the current default value), which uses the default pickle module implicitly. It is possible to construct malicious pickle data which will execute arbitrary code during unpickling (See https://github.com/pytorch/pytorch/blob/main/SECURITY.md#untrusted-models for more details). In a future release, the default value for `weights_only` will be flipped to `True`. This limits the functions that could be executed during unpickling. Arbitrary objects will no longer be allowed to be loaded via this mode unless they are explicitly allowlisted by the user via `torch.serialization.add_safe_globals`. We recommend you start setting `weights_only=True` for any use case where you don't have full control of the loaded file. Please open an issue on GitHub for any issues related to this experimental feature.\n",
      "  example_feats = torch.load(os.path.join(example_folder,'epoch_0_feats.pt'),map_location='cpu')\n"
     ]
    }
   ],
   "source": [
    "cifar_zoo_dir = '/media/siddhartha/games/gmn_data/fixed_hp_data/'\n",
    "# -> folderid\n",
    "#       -> epoch_0_feats.pt\n",
    "#       -> ...\n",
    "#       -> epoch_0_feats.pt\n",
    "#       -> results.json\n",
    "#       -> torch_model.pt\n",
    "\n",
    "\n",
    "example_folder = os.path.join(cifar_zoo_dir,'0b5474db-1755-487b-b8f1-42e9d5950f85')\n",
    "\n",
    "example_torch_model = torch.load(os.path.join(example_folder,'torch_model.pt'),map_location='cpu') # sequential\n",
    "\n",
    "example_results = json.load(open(os.path.join(example_folder,'results.json'),'r'))\n",
    "example_feats = torch.load(os.path.join(example_folder,'epoch_0_feats.pt'),map_location='cpu')"
   ]
  },
  {
   "cell_type": "code",
   "execution_count": 11,
   "metadata": {},
   "outputs": [
    {
     "name": "stdout",
     "output_type": "stream",
     "text": [
      "Conv2d(3, 128, kernel_size=(3, 3), stride=(1, 1))\n",
      "BatchNorm2d(128, eps=1e-05, momentum=0.1, affine=True, track_running_stats=True)\n",
      "ReLU()\n",
      "Conv2d(128, 16, kernel_size=(3, 3), stride=(1, 1))\n",
      "BatchNorm2d(16, eps=1e-05, momentum=0.1, affine=True, track_running_stats=True)\n",
      "ReLU()\n",
      "AdaptiveAvgPool2d(output_size=(1, 1))\n",
      "Flatten()\n",
      "LayerNorm((16,), eps=1e-05, elementwise_affine=True)\n",
      "Linear(in_features=16, out_features=128, bias=True)\n",
      "ReLU()\n",
      "Linear(in_features=128, out_features=32, bias=True)\n",
      "ReLU()\n",
      "Linear(in_features=32, out_features=10, bias=True)\n",
      "ReLU()\n",
      "\n",
      "dict_keys(['hyperparameters', 'train_losses', 'val_losses', 'accuracy'])\n",
      "torch.Size([328, 3]) torch.Size([2, 28986]) torch.Size([28986, 6])\n"
     ]
    }
   ],
   "source": [
    "for layer in example_torch_model:\n",
    "    print(layer)\n",
    "print()\n",
    "print(example_results.keys())\n",
    "print(example_feats[0].shape, example_feats[1].shape, example_feats[2].shape)"
   ]
  },
  {
   "cell_type": "code",
   "execution_count": null,
   "metadata": {},
   "outputs": [],
   "source": []
  }
 ],
 "metadata": {
  "kernelspec": {
   "display_name": "Python 3 (ipykernel)",
   "language": "python",
   "name": "python3"
  },
  "language_info": {
   "codemirror_mode": {
    "name": "ipython",
    "version": 3
   },
   "file_extension": ".py",
   "mimetype": "text/x-python",
   "name": "python",
   "nbconvert_exporter": "python",
   "pygments_lexer": "ipython3",
   "version": "3.10.12"
  }
 },
 "nbformat": 4,
 "nbformat_minor": 2
}
