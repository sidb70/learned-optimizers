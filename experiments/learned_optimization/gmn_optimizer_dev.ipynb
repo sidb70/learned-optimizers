{
 "cells": [
  {
   "cell_type": "code",
   "execution_count": 1,
   "metadata": {},
   "outputs": [],
   "source": [
    "from gmn_lim.graph_construct.model_arch_graph import seq_to_feats, sequential_to_arch, arch_to_graph, graph_to_arch\n",
    "from gmn_lim.graph_models import EdgeMPNNDiT\n",
    "from gmn_lim.feature_extractor_gmn import GraphPredGen\n",
    "from torchviz import make_dot\n",
    "import torch\n",
    "import torch.nn as nn\n",
    "from torch.func import functional_call\n",
    "import json\n",
    "import math\n",
    "import time\n",
    "import os\n",
    "import sys\n",
    "sys.path.insert(0, \"./gmn_lim/graph_construct\")\n",
    "from gmn_lim.graph_construct.constants import NODE_TYPES, EDGE_TYPES, CONV_LAYERS, NORM_LAYERS, RESIDUAL_LAYERS, NODE_TYPE_TO_LAYER\n",
    "from gmn_lim.graph_construct.utils import (\n",
    "    make_node_feat,\n",
    "    make_edge_attr,\n",
    "    conv_to_graph,\n",
    "    linear_to_graph,\n",
    "    norm_to_graph,\n",
    "    ffn_to_graph,\n",
    "    basic_block_to_graph,\n",
    "    self_attention_to_graph,\n",
    "    equiv_set_linear_to_graph,\n",
    "    triplanar_to_graph,\n",
    ")\n",
    "from gmn_lim.graph_construct.model_arch_graph import (\n",
    "    seq_to_feats,\n",
    "    sequential_to_arch,\n",
    "    arch_to_graph,\n",
    "    graph_to_arch,\n",
    "    arch_to_named_params\n",
    "\n",
    ")\n",
    "from gmn_lim.graph_construct.layers import (\n",
    "    Flatten,\n",
    "    PositionwiseFeedForward,\n",
    "    BasicBlock,\n",
    "    SelfAttention,\n",
    "    EquivSetLinear,\n",
    "    TriplanarGrid,\n",
    ")"
   ]
  },
  {
   "cell_type": "code",
   "execution_count": null,
   "metadata": {},
   "outputs": [
    {
     "name": "stderr",
     "output_type": "stream",
     "text": [
      "/tmp/ipykernel_6481/3719415973.py:12: FutureWarning: You are using `torch.load` with `weights_only=False` (the current default value), which uses the default pickle module implicitly. It is possible to construct malicious pickle data which will execute arbitrary code during unpickling (See https://github.com/pytorch/pytorch/blob/main/SECURITY.md#untrusted-models for more details). In a future release, the default value for `weights_only` will be flipped to `True`. This limits the functions that could be executed during unpickling. Arbitrary objects will no longer be allowed to be loaded via this mode unless they are explicitly allowlisted by the user via `torch.serialization.add_safe_globals`. We recommend you start setting `weights_only=True` for any use case where you don't have full control of the loaded file. Please open an issue on GitHub for any issues related to this experimental feature.\n",
      "  example_torch_model = torch.load(os.path.join(example_folder,'torch_model.pt'),map_location='cpu') # sequential\n",
      "/tmp/ipykernel_6481/3719415973.py:15: FutureWarning: You are using `torch.load` with `weights_only=False` (the current default value), which uses the default pickle module implicitly. It is possible to construct malicious pickle data which will execute arbitrary code during unpickling (See https://github.com/pytorch/pytorch/blob/main/SECURITY.md#untrusted-models for more details). In a future release, the default value for `weights_only` will be flipped to `True`. This limits the functions that could be executed during unpickling. Arbitrary objects will no longer be allowed to be loaded via this mode unless they are explicitly allowlisted by the user via `torch.serialization.add_safe_globals`. We recommend you start setting `weights_only=True` for any use case where you don't have full control of the loaded file. Please open an issue on GitHub for any issues related to this experimental feature.\n",
      "  example_feats = torch.load(os.path.join(example_folder,'epoch_0_feats.pt'),map_location='cpu')\n"
     ]
    }
   ],
   "source": [
    "model_dir = '/media/siddhartha/games/gmn_data/fixed_hp_data/'\n",
    "# -> folderid\n",
    "#       -> epoch_0_feats.pt\n",
    "#       -> ...\n",
    "#       -> epoch_0_feats.pt\n",
    "#       -> results.json\n",
    "#       -> torch_model.pt\n",
    "\n",
    "\n",
    "example_folder = os.path.join(model_dir,'0b5474db-1755-487b-b8f1-42e9d5950f85')\n",
    "\n",
    "example_torch_model = torch.load(os.path.join(example_folder,'torch_model.pt'),map_location='cpu') # sequential\n",
    "\n",
    "example_results = json.load(open(os.path.join(example_folder,'results.json'),'r'))\n",
    "example_feats = torch.load(os.path.join(example_folder,'epoch_0_feats.pt'),map_location='cpu')"
   ]
  },
  {
   "cell_type": "code",
   "execution_count": null,
   "metadata": {},
   "outputs": [
    {
     "name": "stdout",
     "output_type": "stream",
     "text": [
      "Conv2d(3, 128, kernel_size=(3, 3), stride=(1, 1))\n",
      "BatchNorm2d(128, eps=1e-05, momentum=0.1, affine=True, track_running_stats=True)\n",
      "ReLU()\n",
      "Conv2d(128, 16, kernel_size=(3, 3), stride=(1, 1))\n",
      "BatchNorm2d(16, eps=1e-05, momentum=0.1, affine=True, track_running_stats=True)\n",
      "ReLU()\n",
      "AdaptiveAvgPool2d(output_size=(1, 1))\n",
      "Flatten()\n",
      "LayerNorm((16,), eps=1e-05, elementwise_affine=True)\n",
      "Linear(in_features=16, out_features=128, bias=True)\n",
      "ReLU()\n",
      "Linear(in_features=128, out_features=32, bias=True)\n",
      "ReLU()\n",
      "Linear(in_features=32, out_features=10, bias=True)\n",
      "ReLU()\n",
      "\n",
      "dict_keys(['hyperparameters', 'train_losses', 'val_losses', 'accuracy'])\n",
      "torch.Size([328, 3]) torch.Size([2, 28986]) torch.Size([28986, 6])\n"
     ]
    }
   ],
   "source": [
    "for layer in example_torch_model:\n",
    "    print(layer)\n",
    "print()\n",
    "print(example_results.keys())\n",
    "print(example_feats[0].shape, example_feats[1].shape, example_feats[2].shape)"
   ]
  },
  {
   "cell_type": "code",
   "execution_count": null,
   "metadata": {},
   "outputs": [],
   "source": [
    "example_torch_model.requires_grad_(True)\n",
    "arch = sequential_to_arch(example_torch_model)\n",
    "node_feats, edge_index, edge_feats = arch_to_graph(arch)\n",
    "reconstructed_arch = graph_to_arch(arch, edge_feats[:,0])\n",
    "\n",
    "\n",
    "for i in range(len(arch)):\n",
    "    weight_tensor = arch[i][1]\n",
    "    weight_tensor_reconstructed = reconstructed_arch[i][1]\n",
    "    assert weight_tensor.shape == weight_tensor_reconstructed.shape\n",
    "    assert torch.all(torch.eq(weight_tensor, weight_tensor_reconstructed))"
   ]
  },
  {
   "cell_type": "code",
   "execution_count": null,
   "metadata": {},
   "outputs": [
    {
     "name": "stdout",
     "output_type": "stream",
     "text": [
      "torch.Size([1, 10]) torch.Size([1, 10])\n",
      "tensor(True)\n"
     ]
    }
   ],
   "source": [
    "params = {name: param\n",
    "                for name, param in example_torch_model.named_parameters()}\n",
    "params_from_arch = {name:param\n",
    "                for name, param in arch_to_named_params(arch)}\n",
    "test_input = torch.randn(1, 3, 32, 32)\n",
    "\n",
    "out1 = functional_call(example_torch_model, params, (test_input,))\n",
    "out2 = functional_call(example_torch_model, params_from_arch, (test_input,))\n",
    "\n",
    "print(out1.shape, out2.shape)\n",
    "\n",
    "print(torch.all(torch.eq(out1, out2)))"
   ]
  },
  {
   "cell_type": "code",
   "execution_count": null,
   "metadata": {},
   "outputs": [],
   "source": [
    "from torch.func import functional_call\n",
    "\n",
    "class NeuralNet(nn.Module):\n",
    "    def __init__(self, sequential: nn.Sequential):\n",
    "        super(NeuralNet, self).__init__()\n",
    "        self.sequential = sequential\n",
    "        self.arch = sequential_to_arch(sequential)\n",
    "        self.params = {\n",
    "            name: param\n",
    "            for name, param in sequential.named_parameters()\n",
    "        }\n",
    "        self.node_feats, self.edge_index, self.edge_feats = arch_to_graph(self.arch)\n",
    "    def update(self, weights):\n",
    "        self.arch = graph_to_arch(self.arch, weights)\n",
    "        new_params = {\n",
    "            name: param\n",
    "            for name, param in arch_to_named_params(self.arch)\n",
    "        }\n",
    "        # assert all shapes same as before\n",
    "        for key in self.params.keys():\n",
    "            assert self.params[key].shape == new_params[key].shape\n",
    "        # update params\n",
    "        self.params = {name: new_params[name] for name in self.params.keys()}\n",
    "    def forward(self, x):\n",
    "        return functional_call(self.sequential, self.params, (x,)) "
   ]
  },
  {
   "cell_type": "code",
   "execution_count": null,
   "metadata": {},
   "outputs": [
    {
     "data": {
      "text/plain": [
       "(torch.Size([328, 16]), torch.Size([28986, 1]))"
      ]
     },
     "execution_count": 10,
     "metadata": {},
     "output_type": "execute_result"
    }
   ],
   "source": [
    "net = NeuralNet(example_torch_model)\n",
    "net.train()\n",
    "\n",
    "node_in_dim = node_feats.shape[1]\n",
    "edge_in_dim = edge_feats.shape[1]\n",
    "hidden_dim = 16\n",
    "edge_out_dim = 1\n",
    "num_layers = 3\n",
    "gmn = EdgeMPNNDiT(3, edge_in_dim, hidden_dim, edge_out_dim, \n",
    "                  num_layers,  dropout=0.0, reduce='mean', activation='silu', use_global=False,)\n",
    "# gmn.init_weights_()\n",
    "for block in gmn.convs:\n",
    "    if block.update_node:\n",
    "        nn.init.constant_(block.node_mlp[-1].weight, 1)\n",
    "        nn.init.constant_(block.node_mlp[-1].bias, 1)\n",
    "\n",
    "    if block.update_edge:\n",
    "        nn.init.constant_(block.edge_mlp[-1].weight, 1)\n",
    "        nn.init.constant_(block.edge_mlp[-1].bias, 1)\n",
    "# init\n",
    "node_feats, next_edge_attr = gmn.forward(net.node_feats, net.edge_index, net.edge_feats, None, None)\n",
    "\n",
    "node_feats.shape, next_edge_attr.shape"
   ]
  },
  {
   "cell_type": "code",
   "execution_count": null,
   "metadata": {},
   "outputs": [
    {
     "name": "stdout",
     "output_type": "stream",
     "text": [
      "Meta Loss: 3.887474536895752\n"
     ]
    },
    {
     "ename": "KeyboardInterrupt",
     "evalue": "",
     "output_type": "error",
     "traceback": [
      "\u001b[0;31m---------------------------------------------------------------------------\u001b[0m",
      "\u001b[0;31mKeyboardInterrupt\u001b[0m                         Traceback (most recent call last)",
      "Cell \u001b[0;32mIn[11], line 52\u001b[0m\n\u001b[1;32m     50\u001b[0m \u001b[38;5;66;03m# print(f\"Epoch {epoch}, Iteration {i}, Loss: {loss.item()}\")\u001b[39;00m\n\u001b[1;32m     51\u001b[0m retain_graph \u001b[38;5;241m=\u001b[39m  i\u001b[38;5;241m<\u001b[39m inner_iterations \n\u001b[0;32m---> 52\u001b[0m \u001b[43mloss\u001b[49m\u001b[38;5;241;43m.\u001b[39;49m\u001b[43mbackward\u001b[49m\u001b[43m(\u001b[49m\u001b[43mretain_graph\u001b[49m\u001b[38;5;241;43m=\u001b[39;49m\u001b[43mretain_graph\u001b[49m\u001b[43m)\u001b[49m\n\u001b[1;32m     53\u001b[0m losses\u001b[38;5;241m.\u001b[39mappend(loss)\n\u001b[1;32m     54\u001b[0m \u001b[38;5;66;03m# Ensure all parameters of net have gradients\u001b[39;00m\n",
      "File \u001b[0;32m~/learned-optimizers/venv/lib/python3.10/site-packages/torch/_tensor.py:581\u001b[0m, in \u001b[0;36mTensor.backward\u001b[0;34m(self, gradient, retain_graph, create_graph, inputs)\u001b[0m\n\u001b[1;32m    571\u001b[0m \u001b[38;5;28;01mif\u001b[39;00m has_torch_function_unary(\u001b[38;5;28mself\u001b[39m):\n\u001b[1;32m    572\u001b[0m     \u001b[38;5;28;01mreturn\u001b[39;00m handle_torch_function(\n\u001b[1;32m    573\u001b[0m         Tensor\u001b[38;5;241m.\u001b[39mbackward,\n\u001b[1;32m    574\u001b[0m         (\u001b[38;5;28mself\u001b[39m,),\n\u001b[0;32m   (...)\u001b[0m\n\u001b[1;32m    579\u001b[0m         inputs\u001b[38;5;241m=\u001b[39minputs,\n\u001b[1;32m    580\u001b[0m     )\n\u001b[0;32m--> 581\u001b[0m \u001b[43mtorch\u001b[49m\u001b[38;5;241;43m.\u001b[39;49m\u001b[43mautograd\u001b[49m\u001b[38;5;241;43m.\u001b[39;49m\u001b[43mbackward\u001b[49m\u001b[43m(\u001b[49m\n\u001b[1;32m    582\u001b[0m \u001b[43m    \u001b[49m\u001b[38;5;28;43mself\u001b[39;49m\u001b[43m,\u001b[49m\u001b[43m \u001b[49m\u001b[43mgradient\u001b[49m\u001b[43m,\u001b[49m\u001b[43m \u001b[49m\u001b[43mretain_graph\u001b[49m\u001b[43m,\u001b[49m\u001b[43m \u001b[49m\u001b[43mcreate_graph\u001b[49m\u001b[43m,\u001b[49m\u001b[43m \u001b[49m\u001b[43minputs\u001b[49m\u001b[38;5;241;43m=\u001b[39;49m\u001b[43minputs\u001b[49m\n\u001b[1;32m    583\u001b[0m \u001b[43m\u001b[49m\u001b[43m)\u001b[49m\n",
      "File \u001b[0;32m~/learned-optimizers/venv/lib/python3.10/site-packages/torch/autograd/__init__.py:347\u001b[0m, in \u001b[0;36mbackward\u001b[0;34m(tensors, grad_tensors, retain_graph, create_graph, grad_variables, inputs)\u001b[0m\n\u001b[1;32m    342\u001b[0m     retain_graph \u001b[38;5;241m=\u001b[39m create_graph\n\u001b[1;32m    344\u001b[0m \u001b[38;5;66;03m# The reason we repeat the same comment below is that\u001b[39;00m\n\u001b[1;32m    345\u001b[0m \u001b[38;5;66;03m# some Python versions print out the first line of a multi-line function\u001b[39;00m\n\u001b[1;32m    346\u001b[0m \u001b[38;5;66;03m# calls in the traceback and some print out the last line\u001b[39;00m\n\u001b[0;32m--> 347\u001b[0m \u001b[43m_engine_run_backward\u001b[49m\u001b[43m(\u001b[49m\n\u001b[1;32m    348\u001b[0m \u001b[43m    \u001b[49m\u001b[43mtensors\u001b[49m\u001b[43m,\u001b[49m\n\u001b[1;32m    349\u001b[0m \u001b[43m    \u001b[49m\u001b[43mgrad_tensors_\u001b[49m\u001b[43m,\u001b[49m\n\u001b[1;32m    350\u001b[0m \u001b[43m    \u001b[49m\u001b[43mretain_graph\u001b[49m\u001b[43m,\u001b[49m\n\u001b[1;32m    351\u001b[0m \u001b[43m    \u001b[49m\u001b[43mcreate_graph\u001b[49m\u001b[43m,\u001b[49m\n\u001b[1;32m    352\u001b[0m \u001b[43m    \u001b[49m\u001b[43minputs\u001b[49m\u001b[43m,\u001b[49m\n\u001b[1;32m    353\u001b[0m \u001b[43m    \u001b[49m\u001b[43mallow_unreachable\u001b[49m\u001b[38;5;241;43m=\u001b[39;49m\u001b[38;5;28;43;01mTrue\u001b[39;49;00m\u001b[43m,\u001b[49m\n\u001b[1;32m    354\u001b[0m \u001b[43m    \u001b[49m\u001b[43maccumulate_grad\u001b[49m\u001b[38;5;241;43m=\u001b[39;49m\u001b[38;5;28;43;01mTrue\u001b[39;49;00m\u001b[43m,\u001b[49m\n\u001b[1;32m    355\u001b[0m \u001b[43m\u001b[49m\u001b[43m)\u001b[49m\n",
      "File \u001b[0;32m~/learned-optimizers/venv/lib/python3.10/site-packages/torch/autograd/graph.py:825\u001b[0m, in \u001b[0;36m_engine_run_backward\u001b[0;34m(t_outputs, *args, **kwargs)\u001b[0m\n\u001b[1;32m    823\u001b[0m     unregister_hooks \u001b[38;5;241m=\u001b[39m _register_logging_hooks_on_whole_graph(t_outputs)\n\u001b[1;32m    824\u001b[0m \u001b[38;5;28;01mtry\u001b[39;00m:\n\u001b[0;32m--> 825\u001b[0m     \u001b[38;5;28;01mreturn\u001b[39;00m \u001b[43mVariable\u001b[49m\u001b[38;5;241;43m.\u001b[39;49m\u001b[43m_execution_engine\u001b[49m\u001b[38;5;241;43m.\u001b[39;49m\u001b[43mrun_backward\u001b[49m\u001b[43m(\u001b[49m\u001b[43m  \u001b[49m\u001b[38;5;66;43;03m# Calls into the C++ engine to run the backward pass\u001b[39;49;00m\n\u001b[1;32m    826\u001b[0m \u001b[43m        \u001b[49m\u001b[43mt_outputs\u001b[49m\u001b[43m,\u001b[49m\u001b[43m \u001b[49m\u001b[38;5;241;43m*\u001b[39;49m\u001b[43margs\u001b[49m\u001b[43m,\u001b[49m\u001b[43m \u001b[49m\u001b[38;5;241;43m*\u001b[39;49m\u001b[38;5;241;43m*\u001b[39;49m\u001b[43mkwargs\u001b[49m\n\u001b[1;32m    827\u001b[0m \u001b[43m    \u001b[49m\u001b[43m)\u001b[49m  \u001b[38;5;66;03m# Calls into the C++ engine to run the backward pass\u001b[39;00m\n\u001b[1;32m    828\u001b[0m \u001b[38;5;28;01mfinally\u001b[39;00m:\n\u001b[1;32m    829\u001b[0m     \u001b[38;5;28;01mif\u001b[39;00m attach_logging_hooks:\n",
      "\u001b[0;31mKeyboardInterrupt\u001b[0m: "
     ]
    }
   ],
   "source": [
    "torch.autograd.set_detect_anomaly(True)\n",
    "gmn.train()\n",
    "gmn = EdgeMPNNDiT(3, edge_in_dim, hidden_dim, edge_out_dim, \n",
    "                  num_layers,  dropout=0.0, reduce='mean', activation='silu', use_global=False,)\n",
    "# gmn.init_weights_()\n",
    "for block in gmn.convs:\n",
    "    if block.update_node:\n",
    "        nn.init.constant_(block.node_mlp[-1].weight, 1)\n",
    "        nn.init.constant_(block.node_mlp[-1].bias, 1)\n",
    "\n",
    "    if block.update_edge:\n",
    "        nn.init.constant_(block.edge_mlp[-1].weight, 1)\n",
    "        nn.init.constant_(block.edge_mlp[-1].bias, 1)\n",
    "gmn.requires_grad_(True)\n",
    "\n",
    "meta_optimizer = torch.optim.Adam(gmn.parameters(), lr=0.01)\n",
    "meta_optimizer.zero_grad()\n",
    "\n",
    "\n",
    "\n",
    "num_samples = 1000\n",
    "test_input = torch.randn(num_samples,3,32,32)\n",
    "target = torch.randn(num_samples,10)\n",
    "dataset = torch.utils.data.TensorDataset(test_input, target)\n",
    "dataloader = torch.utils.data.DataLoader(dataset, batch_size=128, shuffle=True)\n",
    "it = iter(dataloader)\n",
    "\n",
    "def get_batch():\n",
    "    global it\n",
    "    # Get next batch, create new iterator if we've exhausted the current one\n",
    "    try:\n",
    "        batch = next(it)\n",
    "    except StopIteration:\n",
    "        it = iter(dataloader)\n",
    "        batch = next(it)\n",
    "    return batch\n",
    "        \n",
    "criterion = nn.MSELoss()\n",
    "outer_iterations = 10\n",
    "inner_iterations = 20  # or however many iterations you want\n",
    "for epoch in range(outer_iterations):\n",
    "    meta_optimizer.zero_grad()\n",
    "    net = NeuralNet(example_torch_model)\n",
    "    net.train()\n",
    "    losses = []\n",
    "    for i in range(inner_iterations):\n",
    "        test_input, target = get_batch()\n",
    "        out = net(test_input)\n",
    "        loss = criterion(out, target)\n",
    "        # print(f\"Epoch {epoch}, Iteration {i}, Loss: {loss.item()}\")\n",
    "        retain_graph =  i< inner_iterations \n",
    "        loss.backward(retain_graph=retain_graph)\n",
    "        losses.append(loss)\n",
    "        # Ensure all parameters of net have gradients\n",
    "        for name, param in net.named_parameters():\n",
    "            assert param.grad is not None, f\"{name} has no grad\"\n",
    "        \n",
    "        _, next_edge_attr = gmn(net.node_feats, net.edge_index, net.edge_feats, None, None)\n",
    "        \n",
    "        # Update net's weights using the new edge attributes\n",
    "        net.update(next_edge_attr[:,0])\n",
    "    for name, param in gmn.named_parameters():\n",
    "        assert param.grad is not None, f\"{name} has no grad\"\n",
    "    \n",
    "    # weight later losses higher\n",
    "    weights = torch.tensor([1.0/(i+1) for i in range(inner_iterations)])\n",
    "    weights = weights / torch.sum(weights)\n",
    "    meta_loss = torch.sum(torch.stack(losses) * weights)\n",
    "    # make_dot(meta_loss, params=net.params).render('graph20', format='png')\n",
    "    # break\n",
    "    gmn_params = {name: param\n",
    "                for name, param in gmn.named_parameters()}\n",
    "    \n",
    "    print(f\"Meta Loss: {meta_loss.item()}\")\n",
    "    meta_loss.backward()\n",
    "    meta_optimizer.step()\n"
   ]
  },
  {
   "cell_type": "code",
   "execution_count": null,
   "metadata": {},
   "outputs": [],
   "source": []
  }
 ],
 "metadata": {
  "kernelspec": {
   "display_name": "Python 3 (ipykernel)",
   "language": "python",
   "name": "python3"
  },
  "language_info": {
   "codemirror_mode": {
    "name": "ipython",
    "version": 3
   },
   "file_extension": ".py",
   "mimetype": "text/x-python",
   "name": "python",
   "nbconvert_exporter": "python",
   "pygments_lexer": "ipython3",
   "version": "3.10.12"
  }
 },
 "nbformat": 4,
 "nbformat_minor": 2
}
